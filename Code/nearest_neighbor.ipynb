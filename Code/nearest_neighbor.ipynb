{
  "nbformat": 4,
  "nbformat_minor": 0,
  "metadata": {
    "colab": {
      "name": "nearest_neighbor.ipynb",
      "provenance": [],
      "collapsed_sections": [],
      "include_colab_link": true
    },
    "kernelspec": {
      "name": "python3",
      "display_name": "Python 3"
    },
    "language_info": {
      "name": "python"
    }
  },
  "cells": [
    {
      "cell_type": "markdown",
      "metadata": {
        "id": "view-in-github",
        "colab_type": "text"
      },
      "source": [
        "<a href=\"https://colab.research.google.com/github/AdelaideUniversityMathSciences/MathsForAI/blob/main/Code/nearest_neighbor.ipynb\" target=\"_parent\"><img src=\"https://colab.research.google.com/assets/colab-badge.svg\" alt=\"Open In Colab\"/></a>"
      ]
    },
    {
      "cell_type": "code",
      "execution_count": 5,
      "metadata": {
        "id": "cjorkjh1vHBQ"
      },
      "outputs": [],
      "source": [
        "import torch\n",
        "import torch.nn.functional as F\n",
        "from torchvision import datasets, transforms\n",
        "\n",
        "import matplotlib\n",
        "import matplotlib.pyplot as plt"
      ]
    },
    {
      "cell_type": "code",
      "source": [
        "transform = transforms.Compose([transforms.ToTensor(),\n",
        "                                transforms.Normalize((0.5,), (1.0,))])\n",
        "\n",
        "# Training and testing datasets.\n",
        "trainset = datasets.MNIST(\n",
        "    root='../data', train=True,\n",
        "    download=True, transform=transform)\n",
        "testset = datasets.MNIST(\n",
        "    root='../data', train=False,\n",
        "    download=True, transform=transform)"
      ],
      "metadata": {
        "id": "NSSr6MLxvMpa"
      },
      "execution_count": 6,
      "outputs": []
    },
    {
      "cell_type": "code",
      "source": [
        "# Visualize an example.\n",
        "example = trainset[0]\n",
        "x, y = example\n",
        "plt.imshow(torch.squeeze(x))\n",
        "print(y)"
      ],
      "metadata": {
        "id": "HId1HmVevAfW",
        "outputId": "290b427e-40d0-48df-8635-24cbb868174b",
        "colab": {
          "base_uri": "https://localhost:8080/",
          "height": 283
        }
      },
      "execution_count": 7,
      "outputs": [
        {
          "output_type": "stream",
          "name": "stdout",
          "text": [
            "5\n"
          ]
        },
        {
          "output_type": "display_data",
          "data": {
            "image/png": "[encoded data removed]",
            "text/plain": [
              "<Figure size 432x288 with 1 Axes>"
            ]
          },
          "metadata": {
            "needs_background": "light"
          }
        }
      ]
    },
    {
      "cell_type": "code",
      "source": [
        "# Example of list comprehension.\n",
        "elems = [0, 1, 2, 3, 4, 5]\n",
        "[x ** 2 for x in elems]"
      ],
      "metadata": {
        "id": "Iy56m8J8vV3m",
        "outputId": "3b1cddc1-e10a-43be-d77b-dd668384d63e",
        "colab": {
          "base_uri": "https://localhost:8080/"
        }
      },
      "execution_count": 8,
      "outputs": [
        {
          "output_type": "execute_result",
          "data": {
            "text/plain": [
              "[0, 1, 4, 9, 16, 25]"
            ]
          },
          "metadata": {},
          "execution_count": 8
        }
      ]
    },
    {
      "cell_type": "code",
      "source": [
        "images_train = torch.stack([x for x, y in trainset])\n",
        "labels_train = torch.tensor([y for x, y in trainset])\n",
        "images_test = torch.stack([x for x, y in testset])\n",
        "labels_test = torch.tensor([y for x, y in testset])\n",
        "print('images_train:', images_train.shape)\n",
        "print('labels_train:', labels_train.shape)"
      ],
      "metadata": {
        "id": "DfDfICBdvS5x",
        "outputId": "26a84de8-f2ca-4481-fbfc-3faa4a190e61",
        "colab": {
          "base_uri": "https://localhost:8080/"
        }
      },
      "execution_count": 9,
      "outputs": [
        {
          "output_type": "stream",
          "name": "stdout",
          "text": [
            "images_train: torch.Size([60000, 1, 28, 28])\n",
            "labels_train: torch.Size([60000])\n"
          ]
        }
      ]
    },
    {
      "cell_type": "code",
      "source": [
        "# Flatten last 3 dimensions to obtain a vector.\n",
        "x_train = torch.flatten(images_train, start_dim=-3)\n",
        "x_test = torch.flatten(images_test, start_dim=-3)\n",
        "print('x_train:', x_train.shape)\n",
        "print('x_test:', x_test.shape)"
      ],
      "metadata": {
        "id": "TVG2CTnFvZbl",
        "outputId": "ce008f5c-ab96-4e39-cbd7-2d8a49175dbf",
        "colab": {
          "base_uri": "https://localhost:8080/"
        }
      },
      "execution_count": 10,
      "outputs": [
        {
          "output_type": "stream",
          "name": "stdout",
          "text": [
            "x_train: torch.Size([60000, 784])\n",
            "x_test: torch.Size([10000, 784])\n"
          ]
        }
      ]
    },
    {
      "cell_type": "code",
      "source": [
        "# Obtain 2-norm distance between each pair of examples.\n",
        "\n",
        "# Use identity\n",
        "#   |u - v|^2 = u'u - 2 u'v + v'v\n",
        "# to avoid constructing [n_train, n_test, n_feat] array.\n",
        "\n",
        "# Compute dot product between each pair of (train, test) examples.\n",
        "dot = torch.einsum('id,jd->ij', x_train, x_test)\n",
        "print(dot.shape)\n",
        "\n",
        "# This is equivalent to the following code (which is too slow):\n",
        "#\n",
        "# n_train = x_train.shape[0]\n",
        "# n_test = x_test.shape[0]\n",
        "# dot = torch.zeros([n_train, n_test])\n",
        "# for i in range(n_train):\n",
        "#   for j in range(n_test):\n",
        "#     dot[i, j] = torch.dot(x_train[i], x_train[j])"
      ],
      "metadata": {
        "id": "JKWskQ3nvh_7",
        "outputId": "3789a847-ee74-46be-ff56-dc1ffdcbc126",
        "colab": {
          "base_uri": "https://localhost:8080/"
        }
      },
      "execution_count": 11,
      "outputs": [
        {
          "output_type": "stream",
          "name": "stdout",
          "text": [
            "torch.Size([60000, 10000])\n"
          ]
        }
      ]
    },
    {
      "cell_type": "code",
      "source": [
        "# Add an extra dimension such that norms align with dot.\n",
        "norm_train = torch.sum(x_train ** 2, dim=1).unsqueeze(dim=1)\n",
        "norm_test = torch.sum(x_test ** 2, dim=1).unsqueeze(dim=0)\n",
        "print('norm_train:', norm_train.shape)\n",
        "print('norm_test:', norm_test.shape)"
      ],
      "metadata": {
        "id": "DFdxC7J4wRIk",
        "outputId": "081597c8-a6a0-422a-f714-9b70518e9569",
        "colab": {
          "base_uri": "https://localhost:8080/"
        }
      },
      "execution_count": 12,
      "outputs": [
        {
          "output_type": "stream",
          "name": "stdout",
          "text": [
            "norm_train: torch.Size([60000, 1])\n",
            "norm_test: torch.Size([1, 10000])\n"
          ]
        }
      ]
    },
    {
      "cell_type": "code",
      "source": [
        "%%time\n",
        "dist_euc = norm_train + norm_test - 2 * dot\n",
        "# print('dist_euc:', dist_euc.shape)"
      ],
      "metadata": {
        "id": "Eg0JDwj0wpaL",
        "outputId": "ff0ddc0f-a38b-4d0a-b7c8-b6c71e3bc263",
        "colab": {
          "base_uri": "https://localhost:8080/"
        }
      },
      "execution_count": 13,
      "outputs": [
        {
          "output_type": "stream",
          "name": "stdout",
          "text": [
            "CPU times: user 1.22 s, sys: 4.7 s, total: 5.92 s\n",
            "Wall time: 5.9 s\n"
          ]
        }
      ]
    },
    {
      "cell_type": "code",
      "source": [
        "# Find nearest neighbor for each testing example.\n",
        "index_nearest = torch.argmin(dist_euc, dim=0)\n",
        "# Take label of nearest training example as the prediction.\n",
        "pred = labels_train[index_nearest]\n",
        "\n",
        "# Check the accuracy of our predictions!\n",
        "torch.mean((pred == labels_test).float())"
      ],
      "metadata": {
        "id": "XUvUx2WrxxEs",
        "outputId": "d93405b3-7bc9-4265-92f5-784991d963a1",
        "colab": {
          "base_uri": "https://localhost:8080/"
        }
      },
      "execution_count": 14,
      "outputs": [
        {
          "output_type": "execute_result",
          "data": {
            "text/plain": [
              "tensor(0.9691)"
            ]
          },
          "metadata": {},
          "execution_count": 14
        }
      ]
    },
    {
      "cell_type": "code",
      "source": [
        "# Try taking majority of k nearest neighbors.\n",
        "k = 3\n",
        "_, index_neighbors = torch.topk(dist_euc, k, largest=False, dim=0)\n",
        "print('index_neighbors:', index_neighbors.shape)\n",
        "\n",
        "# Take sum over one-hot representation to obtain per-class counts.\n",
        "y_train = F.one_hot(labels_train).float()\n",
        "print('y_train:', y_train.shape)\n",
        "y_neighbors = y_train[index_neighbors]\n",
        "print('y_neighbors:', y_neighbors.shape)"
      ],
      "metadata": {
        "id": "3VgAxYVBzvLL",
        "outputId": "b34b0948-0592-44b8-b57d-7227ba942580",
        "colab": {
          "base_uri": "https://localhost:8080/"
        }
      },
      "execution_count": 15,
      "outputs": [
        {
          "output_type": "stream",
          "name": "stdout",
          "text": [
            "index_neighbors: torch.Size([3, 10000])\n",
            "y_train: torch.Size([60000, 10])\n",
            "y_neighbors: torch.Size([3, 10000, 10])\n"
          ]
        }
      ]
    },
    {
      "cell_type": "code",
      "source": [
        "freq_neighbors = torch.sum(y_neighbors, dim=0)\n",
        "print('freq_neighbors:', freq_neighbors.shape)"
      ],
      "metadata": {
        "id": "amgjlCLG11iW",
        "outputId": "0ccefc2f-fb25-4d11-9c26-2d6561f574c5",
        "colab": {
          "base_uri": "https://localhost:8080/"
        }
      },
      "execution_count": 16,
      "outputs": [
        {
          "output_type": "stream",
          "name": "stdout",
          "text": [
            "freq_neighbors: torch.Size([10000, 10])\n"
          ]
        }
      ]
    },
    {
      "cell_type": "code",
      "source": [
        "# Take the most frequent class amongst neighbors as the prediction.\n",
        "\n",
        "# May be necessary to break ties. Add 0.5^i for the i-th nearest neighbor.\n",
        "weight = 0.5 ** (1 + torch.arange(k))\n",
        "print('weight:', weight)\n",
        "\n",
        "tie_break = torch.tensordot(weight, y_neighbors, dims=1)\n",
        "torch.max(tie_break)  # Should be < 1 to avoid overwhelming frequency."
      ],
      "metadata": {
        "id": "Fot-MJel2dxI",
        "outputId": "5e2016fb-f0cd-471f-e8fa-99c031bb715d",
        "colab": {
          "base_uri": "https://localhost:8080/"
        }
      },
      "execution_count": 17,
      "outputs": [
        {
          "output_type": "stream",
          "name": "stdout",
          "text": [
            "weight: tensor([0.5000, 0.2500, 0.1250])\n"
          ]
        },
        {
          "output_type": "execute_result",
          "data": {
            "text/plain": [
              "tensor(0.8750)"
            ]
          },
          "metadata": {},
          "execution_count": 17
        }
      ]
    },
    {
      "cell_type": "code",
      "source": [
        "score = freq_neighbors + tie_break\n",
        "pred = torch.argmax(score, dim=1)\n",
        "\n",
        "# Check the accuracy of our predictions!\n",
        "torch.mean((pred == labels_test).float())"
      ],
      "metadata": {
        "id": "JpKBDPusLlc1",
        "outputId": "57cc6b88-7a9d-44d7-ab8c-7c085d2744aa",
        "colab": {
          "base_uri": "https://localhost:8080/"
        }
      },
      "execution_count": 18,
      "outputs": [
        {
          "output_type": "execute_result",
          "data": {
            "text/plain": [
              "tensor(0.9717)"
            ]
          },
          "metadata": {},
          "execution_count": 18
        }
      ]
    },
    {
      "cell_type": "code",
      "source": [
        "# Allow python to return memory to the system.\n",
        "del dot, dist_euc"
      ],
      "metadata": {
        "id": "75ta48iX67n3"
      },
      "execution_count": 19,
      "outputs": []
    },
    {
      "cell_type": "code",
      "source": [
        "# Put it all together in a function.\n",
        "\n",
        "def predict_knn(x_train, y_train, x_test, k, chunk_size=1000):\n",
        "  # Use cat(map(f, split(x))) to avoid crashing kernel due to RAM usage.\n",
        "  # This is necessary to evaluate on the training set (60k examples).\n",
        "  # index_neighbors = find_neighbors(x_train, x_test, k)\n",
        "  index_neighbors = torch.cat([\n",
        "    find_neighbors(x_train, x, k)\n",
        "    for x in torch.split(x_test, chunk_size)\n",
        "  ], dim=1)\n",
        "  y_neighbors = y_train[index_neighbors]\n",
        "  freq_neighbors = torch.sum(y_neighbors, dim=0)\n",
        "  weight = 0.5 ** (1 + torch.arange(k))\n",
        "  tie_break = torch.tensordot(weight, y_neighbors, dims=1)\n",
        "  score = freq_neighbors + tie_break\n",
        "  return torch.argmax(score, dim=1)\n",
        "\n",
        "def find_neighbors(x_train, x_test, k):\n",
        "  dot = torch.einsum('id,jd->ij', x_train, x_test)\n",
        "  norm_train = torch.sum(x_train ** 2, dim=1).unsqueeze(dim=1)\n",
        "  norm_test = torch.sum(x_test ** 2, dim=1).unsqueeze(dim=0)\n",
        "  dist_euc = norm_train + norm_test - 2 * dot\n",
        "  _, neighbors = torch.topk(dist_euc, k, largest=False, sorted=True, dim=0)\n",
        "  return neighbors"
      ],
      "metadata": {
        "id": "uFYPwKza2oU8"
      },
      "execution_count": 20,
      "outputs": []
    },
    {
      "cell_type": "code",
      "source": [
        "# Evaluate nearest neighbor for varying k.\n",
        "\n",
        "for k in [1, 3, 10, 100]:\n",
        "  pred_test = predict_knn(x_train, y_train, x_test, k)\n",
        "  acc_test = torch.mean((pred_test == labels_test).float()).item()\n",
        "  print('k:', k)\n",
        "  print(f'test acc {acc_test:.2%}')\n",
        "  print()"
      ],
      "metadata": {
        "id": "S29r9Hz86XBG",
        "outputId": "9b7d0a0b-d32a-49eb-a6c4-bdbcdcb9fe68",
        "colab": {
          "base_uri": "https://localhost:8080/"
        }
      },
      "execution_count": 21,
      "outputs": [
        {
          "output_type": "stream",
          "name": "stdout",
          "text": [
            "k: 1\n",
            "test acc 96.91%\n",
            "\n",
            "k: 3\n",
            "test acc 97.17%\n",
            "\n",
            "k: 10\n",
            "test acc 96.83%\n",
            "\n",
            "k: 100\n",
            "test acc 94.44%\n",
            "\n"
          ]
        }
      ]
    },
    {
      "cell_type": "code",
      "source": [
        "# Do the same thing for the training set (slow!!)\n",
        "\n",
        "for k in [1, 3, 5, 100]:\n",
        "  pred_train = predict_knn(x_train, y_train, x_train, k)\n",
        "  acc_train = torch.mean((pred_train == labels_train).float()).item()\n",
        "  print('k:', k)\n",
        "  print(f'train acc {acc_train:.2%}')\n",
        "  print()"
      ],
      "metadata": {
        "id": "VZl4ZuSGH_Lw",
        "outputId": "63399315-66b2-42a0-f403-d09c3f60201c",
        "colab": {
          "base_uri": "https://localhost:8080/"
        }
      },
      "execution_count": 22,
      "outputs": [
        {
          "output_type": "stream",
          "name": "stdout",
          "text": [
            "k: 1\n",
            "train acc 100.00%\n",
            "\n",
            "k: 3\n",
            "train acc 98.87%\n",
            "\n",
            "k: 5\n",
            "train acc 98.37%\n",
            "\n",
            "k: 100\n",
            "train acc 94.20%\n",
            "\n"
          ]
        }
      ]
    },
    {
      "cell_type": "code",
      "source": [
        ""
      ],
      "metadata": {
        "id": "eOuLv3U48FIi"
      },
      "execution_count": 22,
      "outputs": []
    }
  ]
}