{
  "nbformat": 4,
  "nbformat_minor": 0,
  "metadata": {
    "colab": {
      "name": "pca_example.ipynb",
      "provenance": [],
      "collapsed_sections": [],
      "authorship_tag": "ABX9TyMH+R2Bpi+PlQdmSi8LopAF",
      "include_colab_link": true
    },
    "kernelspec": {
      "name": "python3",
      "display_name": "Python 3"
    },
    "language_info": {
      "name": "python"
    }
  },
  "cells": [
    {
      "cell_type": "markdown",
      "metadata": {
        "id": "view-in-github",
        "colab_type": "text"
      },
      "source": [
        "<a href=\"https://colab.research.google.com/github/AdelaideUniversityMathSciences/MathsForAI/blob/main/Code/pca_example.ipynb\" target=\"_parent\"><img src=\"https://colab.research.google.com/assets/colab-badge.svg\" alt=\"Open In Colab\"/></a>"
      ]
    },
    {
      "cell_type": "code",
      "execution_count": null,
      "metadata": {
        "id": "DVF1AP6XYynt"
      },
      "outputs": [],
      "source": [
        "import torch\n",
        "import math\n",
        "seed = 10\n",
        "g_cpu = torch.Generator() # create a random number generator\n",
        "g_cpu.manual_seed(seed)      # set the seed so we get the same values\n",
        "\n",
        "import matplotlib.pyplot as plt\n",
        "\n",
        "\n",
        "from google.colab import drive\n",
        "drive.mount('/content/drive')\n",
        "\n",
        "from google.colab import files\n",
        "%cd '/content/drive/MyDrive/Colab Notebooks'\n"
      ]
    },
    {
      "cell_type": "code",
      "source": [
        "m = 100\n",
        "n = 2\n",
        "mu = torch.zeros(n)\n",
        "std = torch.tensor( [1, 0.5] )\n",
        "W = torch.tensor( [[ 1, 0.8], [0.25, 0.9]] )\n",
        "X = torch.zeros(m, n)\n",
        "for i in torch.arange(0, m-1):\n",
        "  X[i,:] = torch.normal( mu, std, generator=g_cpu) @ W\n",
        "\n",
        "U,s,Vh = torch.linalg.svd( X )\n",
        "V = torch.transpose(Vh, 0, 1)\n",
        "T = X @ V\n",
        "\n",
        "# plot\n",
        "fig, ax = plt.subplots(1, 2)\n",
        "fig.set_size_inches(10.0, 5.0)\n",
        "\n",
        "ax[0].scatter(X[:,0], X[:,1])\n",
        "ax[0].set_xlim(-3, 3)\n",
        "ax[0].set_ylim(-3, 3)\n",
        "ax[0].set_xlabel('variable 1')\n",
        "ax[0].set_ylabel('variable 2')\n",
        "ax[0].set_aspect('equal')\n",
        "\n",
        "ax[1].scatter(T[:,0], T[:, 1])\n",
        "ax[1].set_xlim(-3, 3)\n",
        "ax[1].set_ylim(-3, 3)\n",
        "ax[1].set_xlabel('component 1')\n",
        "ax[1].set_ylabel('component 2')\n",
        "ax[1].set_aspect('equal')\n",
        "\n",
        "fig.savefig('Plots/svd_example.svg')\n",
        "files.download('Plots/svd_example.svg')\n"
      ],
      "metadata": {
        "id": "P8RpZKgjY3Ai"
      },
      "execution_count": null,
      "outputs": []
    },
    {
      "cell_type": "code",
      "source": [
        ""
      ],
      "metadata": {
        "id": "7gLEXUlFcRKp"
      },
      "execution_count": null,
      "outputs": []
    }
  ]
}