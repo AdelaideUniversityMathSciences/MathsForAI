{
  "nbformat": 4,
  "nbformat_minor": 0,
  "metadata": {
    "colab": {
      "name": "jaccard.ipynb",
      "provenance": [],
      "collapsed_sections": [],
      "authorship_tag": "ABX9TyM8+icpORuyjpN1eAgR2X4J",
      "include_colab_link": true
    },
    "kernelspec": {
      "name": "python3",
      "display_name": "Python 3"
    },
    "language_info": {
      "name": "python"
    }
  },
  "cells": [
    {
      "cell_type": "markdown",
      "metadata": {
        "id": "view-in-github",
        "colab_type": "text"
      },
      "source": [
        "<a href=\"https://colab.research.google.com/github/AdelaideUniversityMathSciences/MathsForAI/blob/main/Code/jaccard.ipynb\" target=\"_parent\"><img src=\"https://colab.research.google.com/assets/colab-badge.svg\" alt=\"Open In Colab\"/></a>"
      ]
    },
    {
      "cell_type": "markdown",
      "source": [
        "+ https://realpython.com/python-sets/\n",
        "+ https://docs.python.org/2/library/sets.html\n",
        "+ https://docs.python.org/3.8/library/hashlib.html"
      ],
      "metadata": {
        "id": "aZBDSltgYO2T"
      }
    },
    {
      "cell_type": "code",
      "source": [
        "import random\n",
        "import torch\n",
        "import torch.random\n",
        "import hashlib\n",
        "# from hashlib import blake2b\n",
        "# hashlib.algorithms_available"
      ],
      "metadata": {
        "id": "Y5VNeGs0aa0-"
      },
      "execution_count": null,
      "outputs": []
    },
    {
      "cell_type": "code",
      "source": [
        "def Jaccard(A,B):\n",
        "  return len(A & B) / len(A | B)"
      ],
      "metadata": {
        "id": "ChuJYJ3rXZlR"
      },
      "execution_count": null,
      "outputs": []
    },
    {
      "cell_type": "code",
      "execution_count": null,
      "metadata": {
        "id": "Y-_eTVKnXAV8"
      },
      "outputs": [],
      "source": [
        "A = set( (1, 2, 5, 7) )\n",
        "B = set( (3, 5, 8, 20) )\n",
        "print( A | B ) # union\n",
        "print( A & B ) # intersection\n",
        "print( len(A) )\n",
        "print( 3 in A )\n",
        "print( 5 in A )\n",
        "print( Jaccard(A, B) )\n"
      ]
    },
    {
      "cell_type": "code",
      "source": [
        "random.seed(10)\n",
        "\n",
        "m = 100000  # sample with replication, so sets won't be this long\n",
        "n = 250000\n",
        "A = set( [random.randint(1,n) for i in range(m)] )\n",
        "B = set( [random.randint(1,n) for i in range(m)] )\n",
        "%time Jaccard(A, B)\n"
      ],
      "metadata": {
        "id": "2JlW77eKYcRX"
      },
      "execution_count": null,
      "outputs": []
    },
    {
      "cell_type": "code",
      "source": [
        "# approx Jaccard\n",
        "def myhash(a, m, x):\n",
        "  b = 0\n",
        "  p = 15485863 # millionth prime number\n",
        "  return ( (a*x + b) % p) % m\n",
        "\n",
        "def signature(S, k, m, seeds):\n",
        "  c = [m for i in range(0,k)]\n",
        "  # h = [hashlib.md5(bytes(i)) for i in range(0,k)]\n",
        "  for i in S:\n",
        "    for j in range(0,k):\n",
        "      # a = h[j].update( bytes(i) )\n",
        "      # b = int( h[j].hexdigest(), 16 ) % m\n",
        "      # h = blake2b(key=bytes(j), digest_size=16)\n",
        "      # b = int( h.update( bytes(i) ).hexdigest(), 16 ) % m\n",
        "      b = myhash(seeds[j], m, i+1)\n",
        "      if b < c[j]:\n",
        "        c[j] = b\n",
        "  return c\n",
        "\n",
        "def Jaccard_approx(A, B, k, m, seeds ):\n",
        "  c1 = signature(A, k, m, seeds)\n",
        "  c2 = signature(B, k, m, seeds)\n",
        "  cmp = [ c1[i] == c2[i] for i in range(0,k) ]\n",
        "  total = sum( cmp )\n",
        "  return total / k\n"
      ],
      "metadata": {
        "id": "XGyXUAsDZDz-"
      },
      "execution_count": null,
      "outputs": []
    },
    {
      "cell_type": "code",
      "source": [
        "k = 100\n",
        "m = 2*n\n",
        "p = 15485863 # millionth prime number\n",
        "seeds = [random.randint(1,p) for i in range(0,k)]\n",
        "print(seeds)\n",
        "c1 = signature(A, k, m, seeds)\n",
        "c2 = signature(B, k, m, seeds)\n",
        "print( c1 )\n",
        "print( c2 )\n",
        "%time J = Jaccard_approx(A, B, k, m, seeds)\n",
        "print( J )\n",
        "\n"
      ],
      "metadata": {
        "id": "1Llcd44akJUB"
      },
      "execution_count": null,
      "outputs": []
    },
    {
      "cell_type": "code",
      "source": [
        "def intersect(a, b):\n",
        "    if len(a) > len(b):\n",
        "        a, b = b, a\n",
        "\n",
        "    c = set()\n",
        "    for x in a:\n",
        "        if x in b:\n",
        "            c.add(x)\n",
        "    return c\n",
        "    "
      ],
      "metadata": {
        "id": "taTQKnEgwsSU"
      },
      "execution_count": null,
      "outputs": []
    },
    {
      "cell_type": "code",
      "source": [
        "%time C = intersect(A, B)\n"
      ],
      "metadata": {
        "id": "2Kc09_8owt28"
      },
      "execution_count": null,
      "outputs": []
    },
    {
      "cell_type": "code",
      "source": [
        ""
      ],
      "metadata": {
        "id": "UQWXwaSewyAP"
      },
      "execution_count": null,
      "outputs": []
    }
  ]
}