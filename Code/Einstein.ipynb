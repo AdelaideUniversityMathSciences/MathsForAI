{
  "nbformat": 4,
  "nbformat_minor": 0,
  "metadata": {
    "colab": {
      "name": "Einstein.ipynb",
      "provenance": [],
      "collapsed_sections": [],
      "authorship_tag": "ABX9TyMZ2J6ZYvuKaFf/7IyjHUY2",
      "include_colab_link": true
    },
    "kernelspec": {
      "name": "python3",
      "display_name": "Python 3"
    },
    "language_info": {
      "name": "python"
    }
  },
  "cells": [
    {
      "cell_type": "markdown",
      "metadata": {
        "id": "view-in-github",
        "colab_type": "text"
      },
      "source": [
        "<a href=\"https://colab.research.google.com/github/AdelaideUniversityMathSciences/MathsForAI/blob/main/Code/Einstein.ipynb\" target=\"_parent\"><img src=\"https://colab.research.google.com/assets/colab-badge.svg\" alt=\"Open In Colab\"/></a>"
      ]
    },
    {
      "cell_type": "markdown",
      "source": [
        "In this sheet you will implement an $L_2$ distance metric between two vectors using Einstein summation notation.\n",
        "\n",
        "We will construct the difference three ways:\n",
        "1. A direct calculation using loops.\n",
        "2. Using the norm of the difference of the two vectors.\n",
        "3. Using Einstein summation notation to construct the dot product.\n",
        "We are going to time each of the three to see which is best. \n",
        "\n",
        "Then we will generalise this to work on a tensor consisting of a list of $m$ vectors. We want to calculate the distance between each pair."
      ],
      "metadata": {
        "id": "Rc2R6AWyAxqh"
      }
    },
    {
      "cell_type": "code",
      "execution_count": 33,
      "metadata": {
        "id": "iwwEY-GOAeeC"
      },
      "outputs": [],
      "source": [
        "import torch\n",
        "import math"
      ]
    },
    {
      "cell_type": "code",
      "source": [
        "# construct two simple vectors\n",
        "k = 1000\n",
        "x1 = torch.arange(1.0,k)\n",
        "x2 = torch.arange(1.0,k) * x1"
      ],
      "metadata": {
        "id": "CbRfFnLmBkL2"
      },
      "execution_count": 34,
      "outputs": []
    },
    {
      "cell_type": "code",
      "source": [
        "# define three ways of doing the distance\n",
        "def norm1(u, v):\n",
        "  total = 0.0\n",
        "  for i in range(u.shape[0]):\n",
        "    total += ( u[i] - v[i] ) ** 2\n",
        "  return math.sqrt(total)\n",
        "\n",
        "def norm2(u, v):\n",
        "  return torch.linalg.norm( u - v , ord=2).item()\n",
        "\n",
        "def norm3(u, v):\n",
        "  dot = torch.einsum('i,i -> ', u, v) # I could have used `torch.dot` here\n",
        "  tmp = torch.einsum( 'i -> ', u ** 2) + torch.einsum( 'i -> ', v ** 2) - 2*dot\n",
        "  return math.sqrt(tmp)\n",
        "\n",
        "# test them\n",
        "print( norm1(x1,x2) )\n",
        "print( norm2(x1,x2) )\n",
        "print( norm3(x1,x2) )"
      ],
      "metadata": {
        "colab": {
          "base_uri": "https://localhost:8080/"
        },
        "id": "nppzmbIdBw13",
        "outputId": "e4da94d8-d05d-4296-e35f-7f05ef1229d1"
      },
      "execution_count": 35,
      "outputs": [
        {
          "output_type": "stream",
          "name": "stdout",
          "text": [
            "14106797.04423481\n",
            "14106797.0\n",
            "14106795.260284455\n"
          ]
        }
      ]
    },
    {
      "cell_type": "code",
      "source": [
        "# measure the times\n",
        "%time norm1(x1,x2)\n",
        "%time norm2(x1,x2)\n",
        "%time norm3(x1,x2)\n"
      ],
      "metadata": {
        "colab": {
          "base_uri": "https://localhost:8080/"
        },
        "id": "ajxfo3EtDhSx",
        "outputId": "1bb3ce4d-b5c4-46aa-909f-d1992cf16a76"
      },
      "execution_count": 38,
      "outputs": [
        {
          "output_type": "stream",
          "name": "stdout",
          "text": [
            "CPU times: user 13.5 ms, sys: 21 µs, total: 13.6 ms\n",
            "Wall time: 15.2 ms\n",
            "CPU times: user 1.5 ms, sys: 6 µs, total: 1.5 ms\n",
            "Wall time: 1.2 ms\n",
            "CPU times: user 1.37 ms, sys: 0 ns, total: 1.37 ms\n",
            "Wall time: 1.09 ms\n"
          ]
        },
        {
          "output_type": "execute_result",
          "data": {
            "text/plain": [
              "14106795.260284455"
            ]
          },
          "metadata": {},
          "execution_count": 38
        }
      ]
    },
    {
      "cell_type": "markdown",
      "source": [
        "Now we need to think about a set of vectors ${\\mathbf x}_1, \\ldots, {\\mathbf x}_n$. We want to calculate the distances between each pair so there are $n (n-1)/2$ total distance calculations. There are two ways you could calculate these:\n",
        "1. Perform a loop, and calculate each pair of distances (using the fastest of the three functions above). \n",
        "2. Use Einstein summation notation to do it in one hit. Note that, the Einstein summation approach wasn't the fastest above, but when we do it this way the norms of each individual vector need only be calculated once, so the only part that need be done for each pair is the dot product.\n",
        "\n",
        "We will store the set of $n$ vectors in an $n \\times k$ matrix (an order 2 tensor). The output should be an $n \\times n$ (symmetric) matrix with zeros along the diagonals. "
      ],
      "metadata": {
        "id": "iCce6otZFB4v"
      }
    },
    {
      "cell_type": "code",
      "source": [
        "# write two functions\n",
        "\n",
        "def Norm_iterate( X ):\n",
        "  d = torch.zeros(n, n) # return an nxn matrix\n",
        "    # use a loop for i=1 to n and j from i+1 to n\n",
        "  return d\n",
        "\n",
        "def Norm_Einstein( X ):\n",
        "  d = torch.zeros(n, n) # return an nxn matrix\n",
        "    # use Einstein summation notation\n",
        "  \n",
        "  return d\n"
      ],
      "metadata": {
        "id": "nHlYwYZTFBfJ"
      },
      "execution_count": 37,
      "outputs": []
    },
    {
      "cell_type": "markdown",
      "source": [
        "First check that the results from your two functions are correct using a small set of vectors for which you know the results."
      ],
      "metadata": {
        "id": "AFo9pRO7GrqO"
      }
    },
    {
      "cell_type": "code",
      "source": [
        ""
      ],
      "metadata": {
        "id": "Ll7eRa3YG2Qt"
      },
      "execution_count": 37,
      "outputs": []
    },
    {
      "cell_type": "markdown",
      "source": [
        "Now time your functions and determine which is best on a larger set of vectors."
      ],
      "metadata": {
        "id": "UB2YNB-BGmgo"
      }
    },
    {
      "cell_type": "code",
      "source": [
        ""
      ],
      "metadata": {
        "id": "PBQxAZBUE4Z8"
      },
      "execution_count": 37,
      "outputs": []
    }
  ]
}