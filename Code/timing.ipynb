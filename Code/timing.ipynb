{
  "nbformat": 4,
  "nbformat_minor": 0,
  "metadata": {
    "colab": {
      "name": "timing.ipynb",
      "provenance": [],
      "collapsed_sections": [],
      "authorship_tag": "ABX9TyP8Qzy/aaicme5CFmz3S3ZO",
      "include_colab_link": true
    },
    "kernelspec": {
      "name": "python3",
      "display_name": "Python 3"
    },
    "language_info": {
      "name": "python"
    }
  },
  "cells": [
    {
      "cell_type": "markdown",
      "metadata": {
        "id": "view-in-github",
        "colab_type": "text"
      },
      "source": [
        "<a href=\"https://colab.research.google.com/github/AdelaideUniversityMathSciences/MathsForAI/blob/main/Code/timing.ipynb\" target=\"_parent\"><img src=\"https://colab.research.google.com/assets/colab-badge.svg\" alt=\"Open In Colab\"/></a>"
      ]
    },
    {
      "cell_type": "markdown",
      "source": [
        "In this sheet you will compare the performance of using iterated loops and PyTorch's more direct methods."
      ],
      "metadata": {
        "id": "o5CrsQ4P-O_b"
      }
    },
    {
      "cell_type": "markdown",
      "source": [
        "Useful info on how to time processes in colab.\n",
        "+ https://colab.research.google.com/github/jakevdp/PythonDataScienceHandbook/blob/master/notebooks/01.07-Timing-and-Profiling.ipynb#scrollTo=uS4kScUg5TFi\n",
        "+ https://stackoverflow.com/questions/7370801/how-to-measure-elapsed-time-in-python\n"
      ],
      "metadata": {
        "id": "ghIKjtE76wFf"
      }
    },
    {
      "cell_type": "code",
      "source": [
        "import torch\n",
        "import math"
      ],
      "metadata": {
        "id": "nJGW5eo48FwC"
      },
      "execution_count": 8,
      "outputs": []
    },
    {
      "cell_type": "markdown",
      "source": [
        "How to time a single small command (`%timeit` runs the command multiple times to get multiple measurements)."
      ],
      "metadata": {
        "id": "HJPrU6uj8oin"
      }
    },
    {
      "cell_type": "code",
      "execution_count": 24,
      "metadata": {
        "colab": {
          "base_uri": "https://localhost:8080/"
        },
        "id": "kkx4DlUy6Utt",
        "outputId": "9ef6ded2-0229-497f-9c45-4e909eb8f6e7"
      },
      "outputs": [
        {
          "output_type": "stream",
          "name": "stdout",
          "text": [
            "100 loops, best of 5: 2.78 ms per loop\n"
          ]
        }
      ],
      "source": [
        "n = 1000\n",
        "%timeit sum( torch.arange(1,n) )"
      ]
    },
    {
      "cell_type": "markdown",
      "source": [
        "How to time a bunch of commands (use two percent signs)."
      ],
      "metadata": {
        "id": "eCtGEKUm8rZ6"
      }
    },
    {
      "cell_type": "code",
      "source": [
        "%%timeit\n",
        "total = 0\n",
        "A = torch.arange(1,n)\n",
        "for a in A:\n",
        "    total += a\n"
      ],
      "metadata": {
        "colab": {
          "base_uri": "https://localhost:8080/"
        },
        "id": "VTpyRxjI6Vpu",
        "outputId": "e9b56dc9-d955-4771-d87f-05898cf00907"
      },
      "execution_count": 20,
      "outputs": [
        {
          "output_type": "stream",
          "name": "stdout",
          "text": [
            "1000 loops, best of 5: 2.1 ms per loop\n"
          ]
        }
      ]
    },
    {
      "cell_type": "markdown",
      "source": [
        "Sometimes it is inapproriate to run the command multiple times befcause the state changes, or there is some caching of intermediate results. the command `%time` will do it once."
      ],
      "metadata": {
        "id": "ok6i-CvB9snF"
      }
    },
    {
      "cell_type": "code",
      "source": [
        "%time torch.sum( torch.arange(1,n) )"
      ],
      "metadata": {
        "colab": {
          "base_uri": "https://localhost:8080/"
        },
        "id": "Me9v2eNR-yKT",
        "outputId": "3d5e80d6-02fa-40f4-bab9-c76d482a2937"
      },
      "execution_count": 25,
      "outputs": [
        {
          "output_type": "stream",
          "name": "stdout",
          "text": [
            "CPU times: user 790 µs, sys: 0 ns, total: 790 µs\n",
            "Wall time: 587 µs\n"
          ]
        },
        {
          "output_type": "execute_result",
          "data": {
            "text/plain": [
              "tensor(499500)"
            ]
          },
          "metadata": {},
          "execution_count": 25
        }
      ]
    },
    {
      "cell_type": "code",
      "source": [
        "import random\n",
        "L = [random.random() for i in range(100000)]\n",
        "print(\"sorting an unsorted list:\")\n",
        "%time L.sort()\n"
      ],
      "metadata": {
        "colab": {
          "base_uri": "https://localhost:8080/"
        },
        "id": "HYEqkaJW6b2v",
        "outputId": "7b76da68-4868-4fdc-d775-1f51914aacff"
      },
      "execution_count": 4,
      "outputs": [
        {
          "output_type": "stream",
          "name": "stdout",
          "text": [
            "sorting an unsorted list:\n",
            "CPU times: user 23.5 ms, sys: 28 µs, total: 23.6 ms\n",
            "Wall time: 23.6 ms\n"
          ]
        }
      ]
    },
    {
      "cell_type": "markdown",
      "source": [
        "As with `%timeit` using `%%` results in measuring a block of code for `%%time` also."
      ],
      "metadata": {
        "id": "5qjv29I295jS"
      }
    },
    {
      "cell_type": "code",
      "source": [
        ""
      ],
      "metadata": {
        "id": "CLhxHNmD7Anv"
      },
      "execution_count": null,
      "outputs": []
    }
  ]
}