{
  "nbformat": 4,
  "nbformat_minor": 0,
  "metadata": {
    "colab": {
      "name": "timing.ipynb",
      "provenance": [],
      "collapsed_sections": [],
      "authorship_tag": "ABX9TyPYDZh7swuUcR5CDgGjqx00",
      "include_colab_link": true
    },
    "kernelspec": {
      "name": "python3",
      "display_name": "Python 3"
    },
    "language_info": {
      "name": "python"
    }
  },
  "cells": [
    {
      "cell_type": "markdown",
      "metadata": {
        "id": "view-in-github",
        "colab_type": "text"
      },
      "source": [
        "<a href=\"https://colab.research.google.com/github/AdelaideUniversityMathSciences/MathsForAI/blob/main/Code/timing.ipynb\" target=\"_parent\"><img src=\"https://colab.research.google.com/assets/colab-badge.svg\" alt=\"Open In Colab\"/></a>"
      ]
    },
    {
      "cell_type": "markdown",
      "source": [
        "In this sheet you will compare the performance of using iterated loops and PyTorch's more direct methods."
      ],
      "metadata": {
        "id": "o5CrsQ4P-O_b"
      }
    },
    {
      "cell_type": "markdown",
      "source": [
        "Useful info on how to time processes in colab.\n",
        "+ https://colab.research.google.com/github/jakevdp/PythonDataScienceHandbook/blob/master/notebooks/01.07-Timing-and-Profiling.ipynb#scrollTo=uS4kScUg5TFi\n",
        "+ https://stackoverflow.com/questions/7370801/how-to-measure-elapsed-time-in-python\n"
      ],
      "metadata": {
        "id": "ghIKjtE76wFf"
      }
    },
    {
      "cell_type": "code",
      "source": [
        "import torch\n",
        "import math"
      ],
      "metadata": {
        "id": "nJGW5eo48FwC"
      },
      "execution_count": 26,
      "outputs": []
    },
    {
      "cell_type": "markdown",
      "source": [
        "How to time a single small command (`%timeit` runs the command multiple times to get multiple measurements)."
      ],
      "metadata": {
        "id": "HJPrU6uj8oin"
      }
    },
    {
      "cell_type": "code",
      "execution_count": 27,
      "metadata": {
        "colab": {
          "base_uri": "https://localhost:8080/"
        },
        "id": "kkx4DlUy6Utt",
        "outputId": "3fa0c856-bc86-4f11-e7e0-ff87b12b17fd"
      },
      "outputs": [
        {
          "output_type": "stream",
          "name": "stdout",
          "text": [
            "10 loops, best of 5: 29.6 ms per loop\n"
          ]
        }
      ],
      "source": [
        "n = 10000\n",
        "%timeit sum( torch.arange(1,n) )"
      ]
    },
    {
      "cell_type": "markdown",
      "source": [
        "How to time a bunch of commands (use two percent signs)."
      ],
      "metadata": {
        "id": "eCtGEKUm8rZ6"
      }
    },
    {
      "cell_type": "code",
      "source": [
        "%%timeit\n",
        "total = 0\n",
        "A = torch.arange(1,n)\n",
        "for a in A:\n",
        "    total += a\n"
      ],
      "metadata": {
        "colab": {
          "base_uri": "https://localhost:8080/"
        },
        "id": "VTpyRxjI6Vpu",
        "outputId": "edaf4fe7-dd8f-4e70-a363-94d7c6544622"
      },
      "execution_count": 28,
      "outputs": [
        {
          "output_type": "stream",
          "name": "stdout",
          "text": [
            "10 loops, best of 5: 22 ms per loop\n"
          ]
        }
      ]
    },
    {
      "cell_type": "markdown",
      "source": [
        "Sometimes it is inapproriate to run the command multiple times because the state changes, or there is some caching of intermediate results. the command `%time` will do it once."
      ],
      "metadata": {
        "id": "ok6i-CvB9snF"
      }
    },
    {
      "cell_type": "code",
      "source": [
        "%time torch.sum( torch.arange(1,n) )"
      ],
      "metadata": {
        "colab": {
          "base_uri": "https://localhost:8080/"
        },
        "id": "Me9v2eNR-yKT",
        "outputId": "61884cd6-3a6f-4aa8-9068-b980af65c480"
      },
      "execution_count": 29,
      "outputs": [
        {
          "output_type": "stream",
          "name": "stdout",
          "text": [
            "CPU times: user 146 µs, sys: 6 µs, total: 152 µs\n",
            "Wall time: 160 µs\n"
          ]
        },
        {
          "output_type": "execute_result",
          "data": {
            "text/plain": [
              "tensor(49995000)"
            ]
          },
          "metadata": {},
          "execution_count": 29
        }
      ]
    },
    {
      "cell_type": "markdown",
      "source": [
        "As with `%timeit` using `%%` results in measuring a block of code for `%%time` also."
      ],
      "metadata": {
        "id": "5qjv29I295jS"
      }
    },
    {
      "cell_type": "markdown",
      "source": [
        "Now you perform a similar set of measurements comparing the calculation of matrix multiplication using:\n",
        "\n",
        "1. PyTorch's standard function `matmul` or the operator `@`\n",
        "2. A hand-coded loop (see notes).\n",
        "\n",
        "Try it for a largish matrix to stress the system."
      ],
      "metadata": {
        "id": "yRZWrLnu_fYN"
      }
    },
    {
      "cell_type": "code",
      "source": [
        ""
      ],
      "metadata": {
        "id": "CLhxHNmD7Anv"
      },
      "execution_count": 29,
      "outputs": []
    }
  ]
}