{
  "nbformat": 4,
  "nbformat_minor": 0,
  "metadata": {
    "colab": {
      "name": "svd_racoon_image.ipynb",
      "provenance": [],
      "collapsed_sections": [],
      "authorship_tag": "ABX9TyMFzl7Vv4oFTOZvLZoYRqns",
      "include_colab_link": true
    },
    "kernelspec": {
      "name": "python3",
      "display_name": "Python 3"
    },
    "language_info": {
      "name": "python"
    }
  },
  "cells": [
    {
      "cell_type": "markdown",
      "metadata": {
        "id": "view-in-github",
        "colab_type": "text"
      },
      "source": [
        "<a href=\"https://colab.research.google.com/github/AdelaideUniversityMathSciences/MathsForAI/blob/main/Code/svd_racoon_image.ipynb\" target=\"_parent\"><img src=\"https://colab.research.google.com/assets/colab-badge.svg\" alt=\"Open In Colab\"/></a>"
      ]
    },
    {
      "cell_type": "code",
      "source": [
        "from scipy import misc\n",
        "import matplotlib.pyplot as plt\n",
        "import torch\n",
        "\n",
        "from google.colab import drive\n",
        "drive.mount('/content/drive')\n",
        "\n",
        "from google.colab import files\n",
        "%cd '/content/drive/MyDrive/Colab Notebooks'\n"
      ],
      "metadata": {
        "id": "pibKjBR8Qk_N"
      },
      "execution_count": null,
      "outputs": []
    },
    {
      "cell_type": "code",
      "source": [
        "f = misc.face(gray = True) # load a standard image\n",
        "plt.imshow(f, cmap='gray', vmin=0, vmax=255)\n",
        "plt.show()\n",
        "\n",
        "plt.savefig('Plots/racoon.svg')\n",
        "files.download('Plots/racoon.svg')\n",
        "\n",
        "plt.imsave('Plots/racoon.png', f, cmap='gray', vmin=0, vmax=255)\n",
        "files.download('Plots/racoon.png')\n"
      ],
      "metadata": {
        "id": "emYqjyp2I-Mk"
      },
      "execution_count": null,
      "outputs": []
    },
    {
      "cell_type": "code",
      "source": [
        "# do SVD\n",
        "A = torch.tensor(f, dtype=torch.float)\n",
        "U,s,Vh = torch.linalg.svd(A, full_matrices=False)\n",
        "U.shape, s.shape, Vh.shape\n",
        "Ad = U @ torch.diag(s) @ Vh\n"
      ],
      "metadata": {
        "id": "OZ6-O_TpK9ti"
      },
      "execution_count": null,
      "outputs": []
    },
    {
      "cell_type": "code",
      "source": [
        "import copy\n",
        "\n",
        "threshold = 1000.0\n",
        "s2 = copy.deepcopy(s)\n",
        "s2[s < threshold] = 0.0\n",
        "\n",
        "plt.plot(s2)\n",
        "plt.plot(s, linestyle='dashed')\n",
        "plt.ylim([0, 3000])\n"
      ],
      "metadata": {
        "id": "TNdtc0MxLOPf"
      },
      "execution_count": null,
      "outputs": []
    },
    {
      "cell_type": "code",
      "source": [
        "Ad = U @ torch.diag(s2) @ Vh\n",
        "plt.imshow(Ad, cmap='gray', vmin=0, vmax=255)\n",
        "plt.show()\n"
      ],
      "metadata": {
        "id": "2b0AzwbON9v5"
      },
      "execution_count": null,
      "outputs": []
    },
    {
      "cell_type": "code",
      "source": [
        "r = torch.tensor([1, 5, 20, 50], dtype=torch.int32)\n",
        "m = r.size(dim=0)\n",
        "fig, ax = plt.subplots(1, m)\n",
        "fig.set_size_inches(24.0, 8.0)\n",
        "\n",
        "for i in torch.arange(0,m):\n",
        "  print(i)\n",
        "  s3 = copy.deepcopy(s)\n",
        "  s3[ r[i] : ] = 0.0\n",
        "  Ad = U @ torch.diag(s3) @ Vh\n",
        "  ax[i].imshow(Ad, cmap='gray', vmin=0, vmax=255)\n",
        "  ax[i].set_title(f'rank = {r[i]}')\n",
        "\n",
        "fig.show()\n",
        "bbox = fig.get_tightbbox(fig.canvas.get_renderer())\n",
        "\n",
        "fig.savefig('Plots/racoon_lowrank.png', bbox_inches=bbox)\n",
        "files.download('Plots/racoon_lowrank.png')\n"
      ],
      "metadata": {
        "id": "JCW1kv5ROuis"
      },
      "execution_count": null,
      "outputs": []
    },
    {
      "cell_type": "code",
      "source": [
        ""
      ],
      "metadata": {
        "id": "tgCXGfsNcoUP"
      },
      "execution_count": null,
      "outputs": []
    }
  ]
}