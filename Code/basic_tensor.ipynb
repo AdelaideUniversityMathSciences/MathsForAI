{
  "nbformat": 4,
  "nbformat_minor": 0,
  "metadata": {
    "colab": {
      "name": "basic_tensor.ipynb",
      "provenance": [],
      "collapsed_sections": [],
      "authorship_tag": "ABX9TyP1rif1TTyIjxVHVB2MTgi8",
      "include_colab_link": true
    },
    "kernelspec": {
      "name": "python3",
      "display_name": "Python 3"
    },
    "language_info": {
      "name": "python"
    }
  },
  "cells": [
    {
      "cell_type": "markdown",
      "metadata": {
        "id": "view-in-github",
        "colab_type": "text"
      },
      "source": [
        "<a href=\"https://colab.research.google.com/github/AdelaideUniversityMathSciences/MathsForAI/blob/main/Code/basic_tensor.ipynb\" target=\"_parent\"><img src=\"https://colab.research.google.com/assets/colab-badge.svg\" alt=\"Open In Colab\"/></a>"
      ]
    },
    {
      "cell_type": "markdown",
      "source": [
        "\n",
        "In this sheet we'll make sure you can use the standard tensor technique in PyTorch, and also that you can read and write files.\n"
      ],
      "metadata": {
        "id": "X5QzSfvSQqVj"
      }
    },
    {
      "cell_type": "code",
      "execution_count": 1,
      "metadata": {
        "id": "UXYsArsKQkDC"
      },
      "outputs": [],
      "source": [
        "import torch\n",
        "import math\n"
      ]
    },
    {
      "cell_type": "code",
      "source": [
        "# the following examples are from the notes, exluding the Numpy example\n",
        "A = torch.tensor([[1., -1.], [1., -1.]])\n",
        "# B = torch.tensor(np.array([[1, 2, 3], [4, 5, 6]]))\n",
        "C = torch.empty(3, 4)\n",
        "D = torch.zeros(2, 3, 4)\n",
        "E = torch.ones(1, 1, 2, dtype=torch.int16)\n",
        "torch.manual_seed(1729)\n",
        "F = torch.rand(2, 3, dtype=torch.float64)"
      ],
      "metadata": {
        "id": "lG9SwAwIQ-Jc"
      },
      "execution_count": 3,
      "outputs": []
    },
    {
      "cell_type": "markdown",
      "source": [
        "You can look at the variables by clicking on the `{x}` on the left-hand margin of this page. Double-click on one to see it in detail.\n",
        "\n",
        "Next practice doing some standard operations."
      ],
      "metadata": {
        "id": "C52VDrr0RNCj"
      }
    },
    {
      "cell_type": "code",
      "source": [
        "# Take the transpose of A.\n",
        "\n",
        "# Squeeze the length=1 dimensions of E.\n",
        "\n",
        "# Add up the columns of A\n",
        "\n",
        "# Multiply A by 3.0\n",
        "\n",
        "# Find the element from the 1st row and 2nd column of A (careful!)\n",
        "\n",
        "# Use torch.arange() to construct a vector 1,...,5 and square all of its elements\n",
        "\n",
        "# Use a comprehension to do the same (as in the previous case)\n",
        "\n"
      ],
      "metadata": {
        "id": "cDIqp-S1RF6E"
      },
      "execution_count": 8,
      "outputs": []
    },
    {
      "cell_type": "markdown",
      "source": [
        "Now we will input a tensor and save the result of a calculation. PyTorch does most stuff with tensors so we will use its stsandard file format, which has the suffix `.pt`.\n",
        "\n",
        "There is a file called `Data/tensor.pt` in the GitHub repository. Grab that file and save it into your Google Drive. \n",
        "\n",
        "Then we use Google Colab's packages to access that file. You'll have to do some autorisation along the way. I also created a `Data` folder on my drive to store such things. You code will have to vary if you put your data somewhere else. "
      ],
      "metadata": {
        "id": "tVxJMxgOSg41"
      }
    },
    {
      "cell_type": "code",
      "source": [
        "from google.colab import drive\n",
        "drive.mount('/content/drive')\n",
        "\n",
        "from google.colab import files\n",
        "%cd /content/drive/MyDrive/Data\n",
        "%ls"
      ],
      "metadata": {
        "colab": {
          "base_uri": "https://localhost:8080/"
        },
        "id": "sFodZxosRL3W",
        "outputId": "e2babbe5-efed-47d9-f0b1-650d795a6015"
      },
      "execution_count": 12,
      "outputs": [
        {
          "output_type": "stream",
          "name": "stdout",
          "text": [
            "Drive already mounted at /content/drive; to attempt to forcibly remount, call drive.mount(\"/content/drive\", force_remount=True).\n",
            "/content/drive/MyDrive/Data\n",
            "tensor.pt\n"
          ]
        }
      ]
    },
    {
      "cell_type": "markdown",
      "source": [
        "Now you should be able to read from (your base) Google Drive folder."
      ],
      "metadata": {
        "id": "HH9adhudTbiW"
      }
    },
    {
      "cell_type": "code",
      "source": [
        "A = torch.load('/content/drive/My Drive/Data/tensor.pt')"
      ],
      "metadata": {
        "id": "570bpR1kT5DX"
      },
      "execution_count": 13,
      "outputs": []
    },
    {
      "cell_type": "markdown",
      "source": [
        "\n",
        "You should also be able to save a file to that directory."
      ],
      "metadata": {
        "id": "9auxCywoTuNI"
      }
    },
    {
      "cell_type": "code",
      "source": [
        "torch.save(A, '/content/drive/My Drive/Data/tensor.pt')"
      ],
      "metadata": {
        "id": "3j4LOLjfTkbF"
      },
      "execution_count": 16,
      "outputs": []
    },
    {
      "cell_type": "markdown",
      "source": [
        "And also save the file back to your computer."
      ],
      "metadata": {
        "id": "nePyeLdhTx9K"
      }
    },
    {
      "cell_type": "code",
      "source": [
        "files.download('/content/drive/My Drive/Data/tensor.pt')"
      ],
      "metadata": {
        "colab": {
          "base_uri": "https://localhost:8080/",
          "height": 17
        },
        "id": "3_P2TfldT1XY",
        "outputId": "c7802709-7db3-4820-8211-1e554632d8cd"
      },
      "execution_count": 17,
      "outputs": [
        {
          "output_type": "display_data",
          "data": {
            "application/javascript": [
              "\n",
              "    async function download(id, filename, size) {\n",
              "      if (!google.colab.kernel.accessAllowed) {\n",
              "        return;\n",
              "      }\n",
              "      const div = document.createElement('div');\n",
              "      const label = document.createElement('label');\n",
              "      label.textContent = `Downloading \"${filename}\": `;\n",
              "      div.appendChild(label);\n",
              "      const progress = document.createElement('progress');\n",
              "      progress.max = size;\n",
              "      div.appendChild(progress);\n",
              "      document.body.appendChild(div);\n",
              "\n",
              "      const buffers = [];\n",
              "      let downloaded = 0;\n",
              "\n",
              "      const channel = await google.colab.kernel.comms.open(id);\n",
              "      // Send a message to notify the kernel that we're ready.\n",
              "      channel.send({})\n",
              "\n",
              "      for await (const message of channel.messages) {\n",
              "        // Send a message to notify the kernel that we're ready.\n",
              "        channel.send({})\n",
              "        if (message.buffers) {\n",
              "          for (const buffer of message.buffers) {\n",
              "            buffers.push(buffer);\n",
              "            downloaded += buffer.byteLength;\n",
              "            progress.value = downloaded;\n",
              "          }\n",
              "        }\n",
              "      }\n",
              "      const blob = new Blob(buffers, {type: 'application/binary'});\n",
              "      const a = document.createElement('a');\n",
              "      a.href = window.URL.createObjectURL(blob);\n",
              "      a.download = filename;\n",
              "      div.appendChild(a);\n",
              "      a.click();\n",
              "      div.remove();\n",
              "    }\n",
              "  "
            ],
            "text/plain": [
              "<IPython.core.display.Javascript object>"
            ]
          },
          "metadata": {}
        },
        {
          "output_type": "display_data",
          "data": {
            "application/javascript": [
              "download(\"download_cf8756d7-4eb7-4362-8681-58fdc8ba87a1\", \"tensor.pt\", 1131)"
            ],
            "text/plain": [
              "<IPython.core.display.Javascript object>"
            ]
          },
          "metadata": {}
        }
      ]
    },
    {
      "cell_type": "markdown",
      "source": [
        "There are many other such commands, including commands to get files direct from a web server (which we use with the MNIST dataset). "
      ],
      "metadata": {
        "id": "9kqM9lGLUCfN"
      }
    },
    {
      "cell_type": "code",
      "source": [
        "# now create your own tensor, and save it to a file\n",
        "\n",
        "# now read it back into a new variable\n"
      ],
      "metadata": {
        "id": "L9wjp32JUNib"
      },
      "execution_count": null,
      "outputs": []
    },
    {
      "cell_type": "code",
      "source": [
        ""
      ],
      "metadata": {
        "id": "f-aENV1KVbwq"
      },
      "execution_count": null,
      "outputs": []
    }
  ]
}