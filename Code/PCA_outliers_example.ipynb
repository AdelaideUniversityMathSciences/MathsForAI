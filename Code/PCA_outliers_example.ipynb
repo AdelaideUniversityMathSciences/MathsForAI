{
 "cells": [
  {
   "cell_type": "markdown",
   "id": "4b5f048b",
   "metadata": {},
   "source": [
    "# Outliers and PCA\n",
    "A quick example demonstrating how outliers can break PCA. Play with how 'outlying' the points are and see how much of an effect they have!"
   ]
  },
  {
   "cell_type": "code",
   "execution_count": 1,
   "id": "0a67c919",
   "metadata": {},
   "outputs": [],
   "source": [
    "import numpy as np\n",
    "import matplotlib.pyplot as plt"
   ]
  },
  {
   "cell_type": "code",
   "execution_count": 2,
   "id": "90e64198",
   "metadata": {},
   "outputs": [
    {
     "data": {
      "text/plain": [
       "[<matplotlib.lines.Line2D at 0x7fcc3226a730>]"
      ]
     },
     "execution_count": 2,
     "metadata": {},
     "output_type": "execute_result"
    },
    {
     "data": {
      "image/png": "[encoded data removed]",
      "text/plain": [
       "<Figure size 432x288 with 1 Axes>"
      ]
     },
     "metadata": {
      "needs_background": "light"
     },
     "output_type": "display_data"
    }
   ],
   "source": [
    "# create dataset and plot some points\n",
    "\n",
    "N = 10000\n",
    "x = np.random.normal(0,1,N)\n",
    "y = np.random.normal(0,0.5,N)\n",
    "\n",
    "#append an outlying point\n",
    "x = np.append(x,5) \n",
    "y = np.append(y,100)\n",
    "\n",
    "plt.plot(x,y,'.')"
   ]
  },
  {
   "cell_type": "markdown",
   "id": "8223d70d",
   "metadata": {},
   "source": [
    "The dataset aligns with the x-axis, so the first principal component should point in the direction $(1,0)$."
   ]
  },
  {
   "cell_type": "code",
   "execution_count": 3,
   "id": "5ee627e0",
   "metadata": {},
   "outputs": [
    {
     "data": {
      "text/plain": [
       "array([[ 0.17060995,  0.98533865],\n",
       "       [-0.98533865,  0.17060995]])"
      ]
     },
     "execution_count": 3,
     "metadata": {},
     "output_type": "execute_result"
    }
   ],
   "source": [
    "from sklearn import decomposition\n",
    "pca = decomposition.PCA(n_components=2)\n",
    "\n",
    "X = np.array([x,y]).T\n",
    "\n",
    "pca_results = pca.fit(X)\n",
    "pca_results.components_"
   ]
  },
  {
   "cell_type": "markdown",
   "id": "ae338239",
   "metadata": {},
   "source": [
    "Doesn't look great, let's plot the results."
   ]
  },
  {
   "cell_type": "code",
   "execution_count": 5,
   "id": "61b9626a",
   "metadata": {},
   "outputs": [
    {
     "data": {
      "text/plain": [
       "[<matplotlib.lines.Line2D at 0x7fcc32cb4a30>]"
      ]
     },
     "execution_count": 5,
     "metadata": {},
     "output_type": "execute_result"
    },
    {
     "data": {
      "image/png": "[encoded data removed]",
      "text/plain": [
       "<Figure size 432x288 with 1 Axes>"
      ]
     },
     "metadata": {
      "needs_background": "light"
     },
     "output_type": "display_data"
    }
   ],
   "source": [
    "scale = 20\n",
    "plt.plot(x,y,'.')\n",
    "plt.plot([0,pca_results.components_[0,0]*scale],[0,pca_results.components_[0,1]*scale],'r')"
   ]
  },
  {
   "cell_type": "markdown",
   "id": "8394c74b",
   "metadata": {},
   "source": [
    "Go back and change the location of the outlier point and see how it changes the direction of PC1!"
   ]
  },
  {
   "cell_type": "code",
   "execution_count": null,
   "id": "99c82038",
   "metadata": {},
   "outputs": [],
   "source": []
  }
 ],
 "metadata": {
  "kernelspec": {
   "display_name": "Python 3",
   "language": "python",
   "name": "python3"
  },
  "language_info": {
   "codemirror_mode": {
    "name": "ipython",
    "version": 3
   },
   "file_extension": ".py",
   "mimetype": "text/x-python",
   "name": "python",
   "nbconvert_exporter": "python",
   "pygments_lexer": "ipython3",
   "version": "3.8.8"
  },
  "toc": {
   "base_numbering": 1,
   "nav_menu": {},
   "number_sections": true,
   "sideBar": true,
   "skip_h1_title": false,
   "title_cell": "Table of Contents",
   "title_sidebar": "Contents",
   "toc_cell": false,
   "toc_position": {},
   "toc_section_display": true,
   "toc_window_display": false
  }
 },
 "nbformat": 4,
 "nbformat_minor": 5
}
