{
  "nbformat": 4,
  "nbformat_minor": 0,
  "metadata": {
    "colab": {
      "name": "svd_example.ipynb",
      "provenance": [],
      "collapsed_sections": [],
      "authorship_tag": "ABX9TyPJM0kCA04fjtsT6mt2Xjqs",
      "include_colab_link": true
    },
    "kernelspec": {
      "name": "python3",
      "display_name": "Python 3"
    },
    "language_info": {
      "name": "python"
    }
  },
  "cells": [
    {
      "cell_type": "markdown",
      "metadata": {
        "id": "view-in-github",
        "colab_type": "text"
      },
      "source": [
        "<a href=\"https://colab.research.google.com/github/AdelaideUniversityMathSciences/MathsForAI/blob/main/Code/svd_example.ipynb\" target=\"_parent\"><img src=\"https://colab.research.google.com/assets/colab-badge.svg\" alt=\"Open In Colab\"/></a>"
      ]
    },
    {
      "cell_type": "code",
      "execution_count": 12,
      "metadata": {
        "id": "cKfQV4WrkllQ"
      },
      "outputs": [],
      "source": [
        "import torch\n",
        "import matplotlib.pyplot as plt\n",
        "import math"
      ]
    },
    {
      "cell_type": "code",
      "source": [
        "# do SVD on a random matrix\n",
        "A = torch.randn(50, 35)\n",
        "U, S, Vh = torch.linalg.svd(A, full_matrices=False)\n",
        "U.shape, S.shape, Vh.shape\n"
      ],
      "metadata": {
        "colab": {
          "base_uri": "https://localhost:8080/"
        },
        "id": "Z-7jC5LVkqAI",
        "outputId": "d5dc182c-6022-43d3-d2d5-5ffef74b92d0"
      },
      "execution_count": 4,
      "outputs": [
        {
          "output_type": "execute_result",
          "data": {
            "text/plain": [
              "(torch.Size([50, 35]), torch.Size([35]), torch.Size([35, 35]))"
            ]
          },
          "metadata": {},
          "execution_count": 4
        }
      ]
    },
    {
      "cell_type": "code",
      "source": [
        "# check it works\n",
        "Ad = U @ torch.diag(S) @ Vh\n",
        "torch.dist(A, Ad)\n"
      ],
      "metadata": {
        "colab": {
          "base_uri": "https://localhost:8080/"
        },
        "id": "AZOzHTkykyqQ",
        "outputId": "3d2de65d-c43a-4275-9238-bd25e3294a5f"
      },
      "execution_count": 19,
      "outputs": [
        {
          "output_type": "execute_result",
          "data": {
            "text/plain": [
              "tensor([12.9075, 12.1879, 11.2459, 10.9949, 10.2898,  9.6414,  9.3592,  9.1833,\n",
              "         8.5363,  8.4657,  7.9098,  7.5884,  7.2899,  7.1064,  6.8887,  6.7665,\n",
              "         6.2663,  6.1568,  5.6084,  5.3006,  5.2303,  4.8312,  4.7237,  4.3997,\n",
              "         4.2579,  3.9871,  3.7645,  3.5482,  3.4344,  3.2051,  2.7962,  2.6368,\n",
              "         2.0950,  1.8408,  1.6391])"
            ]
          },
          "metadata": {},
          "execution_count": 19
        }
      ]
    },
    {
      "cell_type": "code",
      "source": [
        "plt.plot(S)\n"
      ],
      "metadata": {
        "colab": {
          "base_uri": "https://localhost:8080/",
          "height": 283
        },
        "id": "LW1XMi8Fk-wr",
        "outputId": "3f916797-f056-4235-a921-22fe9eb0a849"
      },
      "execution_count": 20,
      "outputs": [
        {
          "output_type": "execute_result",
          "data": {
            "text/plain": [
              "[<matplotlib.lines.Line2D at 0x7fd4d18c7690>]"
            ]
          },
          "metadata": {},
          "execution_count": 20
        },
        {
          "output_type": "display_data",
          "data": {
            "text/plain": [
              "<Figure size 432x288 with 1 Axes>"
            ],
            "image/png": "[encoded data removed]"
          },
          "metadata": {
            "needs_background": "light"
          }
        }
      ]
    },
    {
      "cell_type": "code",
      "source": [
        ""
      ],
      "metadata": {
        "id": "eQ0zxPf6lPoV"
      },
      "execution_count": null,
      "outputs": []
    }
  ]
}