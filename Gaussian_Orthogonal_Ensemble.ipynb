{
  "nbformat": 4,
  "nbformat_minor": 0,
  "metadata": {
    "colab": {
      "name": "Gaussian Orthogonal Ensemble.ipynb",
      "provenance": [],
      "collapsed_sections": [],
      "authorship_tag": "ABX9TyMy70py2lNrfkYbF0TBlWxv",
      "include_colab_link": true
    },
    "kernelspec": {
      "name": "python3",
      "display_name": "Python 3"
    },
    "language_info": {
      "name": "python"
    }
  },
  "cells": [
    {
      "cell_type": "markdown",
      "metadata": {
        "id": "view-in-github",
        "colab_type": "text"
      },
      "source": [
        "<a href=\"https://colab.research.google.com/github/AdelaideUniversityMathSciences/MathsForAI/blob/main/Gaussian_Orthogonal_Ensemble.ipynb\" target=\"_parent\"><img src=\"https://colab.research.google.com/assets/colab-badge.svg\" alt=\"Open In Colab\"/></a>"
      ]
    },
    {
      "cell_type": "code",
      "execution_count": 3,
      "metadata": {
        "id": "uboENzYZ8Ymv"
      },
      "outputs": [],
      "source": [
        "import torch\n",
        "import math"
      ]
    },
    {
      "cell_type": "code",
      "source": [
        "n = 2000\n",
        "Z = torch.zeros(n,n)\n",
        "A = torch.normal( Z, 1.0) / math.sqrt(n)\n",
        "B = torch.triu(A, diagonal=1)\n",
        "D = math.sqrt(2) * torch.diag(torch.diag(A))\n",
        "C = B + torch.transpose(B, 0, 1) + D\n",
        "C = C\n",
        "# print(A)\n",
        "# print(B)\n",
        "# print(C)\n",
        "# print(D)"
      ],
      "metadata": {
        "id": "SqY9E_W_8aKP"
      },
      "execution_count": 4,
      "outputs": []
    },
    {
      "cell_type": "code",
      "source": [
        "e,v = torch.linalg.eig(A)\n",
        "# print(e)"
      ],
      "metadata": {
        "id": "7beqO9PJ8f_c"
      },
      "execution_count": 5,
      "outputs": []
    },
    {
      "cell_type": "code",
      "source": [
        "import matplotlib.pyplot as plt\n",
        "import numpy as np\n",
        "\n",
        "plt.scatter(e.real, e.imag, color='red')\n",
        "plt.axes().set_aspect('equal')\n",
        "plt.show()\n"
      ],
      "metadata": {
        "colab": {
          "base_uri": "https://localhost:8080/",
          "height": 320
        },
        "id": "_yLwes1t_gZ9",
        "outputId": "ae743a21-4577-4b1d-b2fc-690a965d91ab"
      },
      "execution_count": 6,
      "outputs": [
        {
          "output_type": "stream",
          "name": "stderr",
          "text": [
            "/usr/local/lib/python3.7/dist-packages/ipykernel_launcher.py:5: MatplotlibDeprecationWarning: Adding an axes using the same arguments as a previous axes currently reuses the earlier instance.  In a future version, a new instance will always be created and returned.  Meanwhile, this warning can be suppressed, and the future behavior ensured, by passing a unique label to each axes instance.\n",
            "  \"\"\"\n"
          ]
        },
        {
          "output_type": "display_data",
          "data": {
            "image/png": "[encoded data removed]",
            "text/plain": [
              "<Figure size 432x288 with 1 Axes>"
            ]
          },
          "metadata": {
            "needs_background": "light"
          }
        }
      ]
    },
    {
      "cell_type": "code",
      "source": [
        "e,v = torch.linalg.eig(C)\n",
        "plt.hist(e)"
      ],
      "metadata": {
        "id": "WWeqPkTl_1dS",
        "colab": {
          "base_uri": "https://localhost:8080/",
          "height": 481
        },
        "outputId": "d46891db-0839-48e2-f392-08c7a02f69d9"
      },
      "execution_count": 7,
      "outputs": [
        {
          "output_type": "stream",
          "name": "stderr",
          "text": [
            "/usr/local/lib/python3.7/dist-packages/numpy/lib/histograms.py:852: ComplexWarning: Casting complex values to real discards the imaginary part\n",
            "  indices = f_indices.astype(np.intp)\n",
            "/usr/local/lib/python3.7/dist-packages/matplotlib/transforms.py:789: ComplexWarning: Casting complex values to real discards the imaginary part\n",
            "  points = np.array(args, dtype=float).reshape(2, 2)\n",
            "/usr/local/lib/python3.7/dist-packages/matplotlib/transforms.py:1969: ComplexWarning: Casting complex values to real discards the imaginary part\n",
            "  x, y = float(x), float(y)\n"
          ]
        },
        {
          "output_type": "execute_result",
          "data": {
            "text/plain": [
              "(array([104., 180., 222., 243., 252., 254., 242., 220., 181., 102.]),\n",
              " array([-2.0017762 +0.j, -1.600979  +0.j, -1.2001817 +0.j, -0.7993845 +0.j,\n",
              "        -0.39858723+0.j,  0.00221002+0.j,  0.40300727+0.j,  0.8038045 +0.j,\n",
              "         1.2046018 +0.j,  1.605399  +0.j,  2.0061963 +0.j], dtype=complex64),\n",
              " <a list of 10 Patch objects>)"
            ]
          },
          "metadata": {},
          "execution_count": 7
        },
        {
          "output_type": "display_data",
          "data": {
            "image/png": "[encoded data removed]",
            "text/plain": [
              "<Figure size 432x288 with 1 Axes>"
            ]
          },
          "metadata": {
            "needs_background": "light"
          }
        }
      ]
    },
    {
      "cell_type": "code",
      "source": [
        "f, I = torch.sort(e.real )\n",
        "g = torch.diff(f)\n",
        "plt.hist(g, bins=30)"
      ],
      "metadata": {
        "colab": {
          "base_uri": "https://localhost:8080/",
          "height": 479
        },
        "id": "M9B5D9Zmyni6",
        "outputId": "6dd9b067-6647-417e-f365-25740fcbc9ec"
      },
      "execution_count": 9,
      "outputs": [
        {
          "output_type": "execute_result",
          "data": {
            "text/plain": [
              "(array([238., 598., 524., 339., 158.,  68.,  25.,  20.,   9.,   4.,   3.,\n",
              "          1.,   2.,   1.,   3.,   0.,   0.,   1.,   0.,   0.,   0.,   1.,\n",
              "          0.,   1.,   1.,   1.,   0.,   0.,   0.,   1.]),\n",
              " array([1.8000603e-05, 7.6913834e-04, 1.5202761e-03, 2.2714138e-03,\n",
              "        3.0225515e-03, 3.7736893e-03, 4.5248270e-03, 5.2759647e-03,\n",
              "        6.0271025e-03, 6.7782402e-03, 7.5293779e-03, 8.2805157e-03,\n",
              "        9.0316534e-03, 9.7827911e-03, 1.0533929e-02, 1.1285067e-02,\n",
              "        1.2036204e-02, 1.2787342e-02, 1.3538480e-02, 1.4289618e-02,\n",
              "        1.5040755e-02, 1.5791893e-02, 1.6543031e-02, 1.7294168e-02,\n",
              "        1.8045306e-02, 1.8796444e-02, 1.9547582e-02, 2.0298719e-02,\n",
              "        2.1049857e-02, 2.1800995e-02, 2.2552133e-02], dtype=float32),\n",
              " <a list of 30 Patch objects>)"
            ]
          },
          "metadata": {},
          "execution_count": 9
        },
        {
          "output_type": "display_data",
          "data": {
            "image/png": "[encoded data removed]",
            "text/plain": [
              "<Figure size 432x288 with 1 Axes>"
            ]
          },
          "metadata": {
            "needs_background": "light"
          }
        }
      ]
    },
    {
      "cell_type": "code",
      "source": [
        ""
      ],
      "metadata": {
        "id": "Hjpmz7zPza4K"
      },
      "execution_count": 8,
      "outputs": []
    }
  ]
}